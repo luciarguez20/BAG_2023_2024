{
 "cells": [
  {
   "cell_type": "markdown",
   "id": "176ea102",
   "metadata": {},
   "source": [
    "# Proyecto de análisis de sentimientos con Python\n",
    "### Lucía Rodríguez Ramírez\n",
    "Curso 2023/2024\n",
    "\n",
    "El objetivo de este proyecto es desarrollar un código a través del método **Machine Learning**, que pueda detectar el sentimiento de tweets recopilados y que, al entrenarlo, sea capaz de predecir el sentimiento de futuros mensajes. \n"
   ]
  },
  {
   "cell_type": "code",
   "execution_count": 1,
   "id": "e7399039",
   "metadata": {},
   "outputs": [],
   "source": [
    "#Importamos todos los paquetes que vamos a necesitar para ejecutar el script. \n",
    "import pandas as pd\n",
    "import numpy as np\n",
    "from sklearn.model_selection import train_test_split\n",
    "from sklearn.feature_extraction.text import CountVectorizer\n",
    "from sklearn.naive_bayes import MultinomialNB\n",
    "from sklearn.metrics import accuracy_score, classification_report, confusion_matrix\n",
    "from sklearn.pipeline import make_pipeline\n",
    "\n",
    "import nltk\n",
    "from nltk.corpus import stopwords\n",
    "from nltk.stem import PorterStemmer\n",
    "from nltk.tokenize import word_tokenize\n",
    "\n",
    "import re\n",
    "from nltk.tokenize import TweetTokenizer\n",
    "from nltk.corpus import stopwords\n",
    "from nltk.stem import SnowballStemmer\n",
    "\n",
    "from textblob import TextBlob\n",
    "\n",
    "from sklearn.linear_model import LogisticRegression\n",
    "from sklearn.model_selection import train_test_split\n",
    "from sklearn.metrics import precision_score\n",
    "\n",
    "from sklearn import preprocessing\n",
    "\n",
    "import matplotlib.pyplot as plt"
   ]
  },
  {
   "cell_type": "markdown",
   "id": "b90ec40e",
   "metadata": {},
   "source": [
    "## 1. Lectura de datos\n",
    "\n",
    "El conjunto de datos recopilados para este proyecto han sido obtenidos de la base de datos *Kaggle* y está compuesto por un total de 10313 tweets en inglés extraídos de distintos perfiles de Twitter. "
   ]
  },
  {
   "cell_type": "code",
   "execution_count": 2,
   "id": "a5e31f7b",
   "metadata": {},
   "outputs": [
    {
     "data": {
      "text/html": [
       "<div>\n",
       "<style scoped>\n",
       "    .dataframe tbody tr th:only-of-type {\n",
       "        vertical-align: middle;\n",
       "    }\n",
       "\n",
       "    .dataframe tbody tr th {\n",
       "        vertical-align: top;\n",
       "    }\n",
       "\n",
       "    .dataframe thead th {\n",
       "        text-align: right;\n",
       "    }\n",
       "</style>\n",
       "<table border=\"1\" class=\"dataframe\">\n",
       "  <thead>\n",
       "    <tr style=\"text-align: right;\">\n",
       "      <th></th>\n",
       "      <th>message to examine</th>\n",
       "    </tr>\n",
       "  </thead>\n",
       "  <tbody>\n",
       "    <tr>\n",
       "      <th>0</th>\n",
       "      <td>just had a real good moment. i missssssssss hi...</td>\n",
       "    </tr>\n",
       "    <tr>\n",
       "      <th>1</th>\n",
       "      <td>is reading manga  http://plurk.com/p/mzp1e</td>\n",
       "    </tr>\n",
       "    <tr>\n",
       "      <th>2</th>\n",
       "      <td>@comeagainjen http://twitpic.com/2y2lx - http:...</td>\n",
       "    </tr>\n",
       "    <tr>\n",
       "      <th>3</th>\n",
       "      <td>@lapcat Need to send 'em to my accountant tomo...</td>\n",
       "    </tr>\n",
       "    <tr>\n",
       "      <th>4</th>\n",
       "      <td>ADD ME ON MYSPACE!!!  myspace.com/LookThunder</td>\n",
       "    </tr>\n",
       "  </tbody>\n",
       "</table>\n",
       "</div>"
      ],
      "text/plain": [
       "                                  message to examine\n",
       "0  just had a real good moment. i missssssssss hi...\n",
       "1         is reading manga  http://plurk.com/p/mzp1e\n",
       "2  @comeagainjen http://twitpic.com/2y2lx - http:...\n",
       "3  @lapcat Need to send 'em to my accountant tomo...\n",
       "4      ADD ME ON MYSPACE!!!  myspace.com/LookThunder"
      ]
     },
     "execution_count": 2,
     "metadata": {},
     "output_type": "execute_result"
    }
   ],
   "source": [
    "data = pd.read_csv('sentiment_tweets3.csv')\n",
    "dataset = data[['message to examine']]\n",
    "dataset[:5]"
   ]
  },
  {
   "cell_type": "markdown",
   "id": "65bcb7bc",
   "metadata": {},
   "source": [
    "## 2.  Limpieza del texto en cada tweet"
   ]
  },
  {
   "cell_type": "markdown",
   "id": "4f45ece1",
   "metadata": {},
   "source": [
    "Creamos una nueva función para limpiar el texto y modificarlo de forma que sea apto para procesarlo posteriomente. "
   ]
  },
  {
   "cell_type": "code",
   "execution_count": 3,
   "id": "00cddc04",
   "metadata": {},
   "outputs": [],
   "source": [
    "def limpiar_texto(data):\n",
    "    #Iteramos con un bucle for cada uno de los tweets con su índice del dataframe: \n",
    "    for index, row in data.iterrows(): \n",
    "        #Guardamos cada línea de la columna 'message to examine' en una variable\n",
    "        message = row['message to examine']\n",
    "        #Procesamos cada línea para eliminar caracteres raros, emojis, menciones, URLs, etc.\n",
    "        ### Aparecían muchos carácteres hacia el final del dataset como . Buscando como podía eliminarlo, conseguí encontrar\n",
    "        ### una manera de recopilar esos puntos junto a otros caracteres como â a través de: [^\\x20-\\x7E].###\n",
    "        new_line = re.sub(r'Ã|Â|[^\\x20-\\x7E]|ì|ë|°|ï|½|<Emoji:\\s*[^>]+>|https?://\\S+|www\\.\\S+|\\b\\S+\\.com\\S+\\b|[@#]\\w+|@',\"\", message)\n",
    "        #y la modificamos para que el texto esté en minúsculas. \n",
    "        new2 = new_line.lower()\n",
    "        \n",
    "        #Realizamos la tokenización, es decir, separamos las palabras dentro de cada tweet como elementos de una lista.\n",
    "        #Para ello, guardamos el método TweetTokenizer() en una variable para poder separar las palabras del tweet \n",
    "        #con .tokenize(\"texto\")\n",
    "        tokenizer = TweetTokenizer()\n",
    "        #Como resultado, tendremos cada frase en forma de lista con las palabras separadas por comas.\n",
    "        sep = tokenizer.tokenize(new2)\n",
    "        \n",
    "        #Creamos una variable donde almacenemos las palabras que no sean relevantes para poder detectar posteriomente \n",
    "        #de forma más rápida y simple el sentimiento del tweet. \n",
    "        stopW = set(stopwords.words('english'))\n",
    "        \n",
    "        #Para cada línea del dataframe en forma de lista:\n",
    "        for lista in sep:\n",
    "            #Obtener un nuevo texto, en el cual las palabras que se guarden no sean palabras irrelevantes que estén en \n",
    "            #el repositorio de stop words.\n",
    "            filtered_sentence = [word for word in sep if not word in stopW]\n",
    "            \n",
    "#       La forma desarollada de la línea anterior sería como se muestra a continuación, pero se emplean más líneas de código \n",
    "#       para decir lo mismo. Se haría de igual forma para el bucle de stems. \n",
    "#       filtered_sentence = []\n",
    "#       for word in sep:\n",
    "#           if word not in stopW:\n",
    "#               filtered_sentence.append(word)\n",
    "\n",
    "            #Obtenemos a través del método lematización con \"SnowballStemmer(idioma)\" idioma inglés, la raíz de las palabras  \n",
    "            #relevantes guardadas en filtered_sentence.\n",
    "            lemat = SnowballStemmer('english')\n",
    "            stems = [lemat.stem(word) for word in filtered_sentence]\n",
    "        #Por último, unimos las raíces de las palabras en cada lista para generar la frase final con todos los cambios que \n",
    "        #hemos ido haciendo. \n",
    "        final_text = ' '.join(stems) \n",
    "        #Sustituimos dichas frases en el dataframe original para trabajar posteriormente con los tweets ya procesados.\n",
    "        data.at[index, 'message to examine'] = final_text\n",
    "\n",
    "    return data"
   ]
  },
  {
   "cell_type": "markdown",
   "id": "0e6f4e7e",
   "metadata": {},
   "source": [
    "Comprobamos que la función funciona correctamente con nuestro dataset de tweets:"
   ]
  },
  {
   "cell_type": "code",
   "execution_count": 4,
   "id": "8c7b2e02",
   "metadata": {
    "scrolled": true
   },
   "outputs": [
    {
     "data": {
      "text/html": [
       "<div>\n",
       "<style scoped>\n",
       "    .dataframe tbody tr th:only-of-type {\n",
       "        vertical-align: middle;\n",
       "    }\n",
       "\n",
       "    .dataframe tbody tr th {\n",
       "        vertical-align: top;\n",
       "    }\n",
       "\n",
       "    .dataframe thead th {\n",
       "        text-align: right;\n",
       "    }\n",
       "</style>\n",
       "<table border=\"1\" class=\"dataframe\">\n",
       "  <thead>\n",
       "    <tr style=\"text-align: right;\">\n",
       "      <th></th>\n",
       "      <th>message to examine</th>\n",
       "    </tr>\n",
       "  </thead>\n",
       "  <tbody>\n",
       "    <tr>\n",
       "      <th>0</th>\n",
       "      <td>real good moment . missssssssss much ,</td>\n",
       "    </tr>\n",
       "    <tr>\n",
       "      <th>1</th>\n",
       "      <td>read manga</td>\n",
       "    </tr>\n",
       "    <tr>\n",
       "      <th>2</th>\n",
       "      <td>-</td>\n",
       "    </tr>\n",
       "    <tr>\n",
       "      <th>3</th>\n",
       "      <td>need send ' em account tomorrow . odd , even r...</td>\n",
       "    </tr>\n",
       "    <tr>\n",
       "      <th>4</th>\n",
       "      <td>add myspac ! ! !</td>\n",
       "    </tr>\n",
       "  </tbody>\n",
       "</table>\n",
       "</div>"
      ],
      "text/plain": [
       "                                  message to examine\n",
       "0             real good moment . missssssssss much ,\n",
       "1                                         read manga\n",
       "2                                                  -\n",
       "3  need send ' em account tomorrow . odd , even r...\n",
       "4                                   add myspac ! ! !"
      ]
     },
     "execution_count": 4,
     "metadata": {},
     "output_type": "execute_result"
    }
   ],
   "source": [
    "limpiar_texto(dataset)\n",
    "dataset[0:5]"
   ]
  },
  {
   "cell_type": "markdown",
   "id": "2cc69f12",
   "metadata": {},
   "source": [
    "## 3.  Identificación del sentimiento "
   ]
  },
  {
   "cell_type": "markdown",
   "id": "bdec83e8",
   "metadata": {},
   "source": [
    "Creamos una nueva función para identificar el sentimiento de cada tweet y clasificarlo en distintas categorías. Empleamos `TextBlob` como modelo existente en python, que nos permite analizar la **polaridad** de cada mensaje: \n",
    "\n",
    "- Valores mayores que 0 -> sentimientos positivos\n",
    "- Valores menores que 0 -> sentimientos negativos \n",
    "\n",
    "Con el objetivo de establecer un umbral para cada categoría, he optado por los siguientes valores: \n",
    "* **Hater**: entre -1 y -0.8\n",
    "* **Molesto**: entre -0.8 y 0\n",
    "* **Neutro**: 0\n",
    "* **Contento**: entre 0 y 0.8 \n",
    "* **Muy feliz**: entre 0.8 y 1\n",
    "\n"
   ]
  },
  {
   "cell_type": "code",
   "execution_count": 5,
   "id": "711e27e4",
   "metadata": {},
   "outputs": [],
   "source": [
    "def clasificador(data):\n",
    "    #Generamos una lista vacía donde ir recopilando las etiquetas con el sentimiento de cada tweet. \n",
    "    labels = []\n",
    "    #Itineramos con un bucle for cada uno de los tweets con su índice del dataframe y guardamos cada línea en una variable: \n",
    "    for index, row in data.iterrows(): \n",
    "        message = row['message to examine']\n",
    "        #Mediante el método TextBlob(\"texto\") podemos extraer los valores de polaridad de cada mensaje:\n",
    "        text = TextBlob(message)\n",
    "        sentiment_polarity = text.sentiment.polarity     \n",
    "        \n",
    "        #Analizamos cada línea y, según el valor de polaridad, asignamos una etiqueta con el sentimiento para, posteriomente,\n",
    "        #almacenarlo en la lista creada con anterioridad.\n",
    "        if -1 <= sentiment_polarity <= -0.8:\n",
    "            label = \"Hater\"\n",
    "        elif -0.8 < sentiment_polarity < 0:\n",
    "            label = \"Molesto\"\n",
    "        elif sentiment_polarity == 0:\n",
    "            label = \"Neutro\"\n",
    "        elif 0 < sentiment_polarity < 0.8:\n",
    "            label = \"Contento\"\n",
    "        elif 0.8 <= sentiment_polarity <= 1:\n",
    "            label= \"Muy feliz\"\n",
    "        labels.append(label)\n",
    "    \n",
    "    #Una vez analizados todos los tweets, añadimos una columna en el dataframe con todas las etiquetas generadas. \n",
    "    #Empelamos pd.options.mode.chained_assignment para evitar la advertencia SettingWithCopyWarning, ya que queremos\n",
    "    #hacer las modificaciones sobre le dataset original.\n",
    "    pd.options.mode.chained_assignment = None \n",
    "    data['label'] = labels\n",
    "    \n",
    "    return data"
   ]
  },
  {
   "cell_type": "markdown",
   "id": "5b988f23",
   "metadata": {},
   "source": [
    "Comprobamos que la función funciona correctamente con nuestro dataset de tweets:"
   ]
  },
  {
   "cell_type": "code",
   "execution_count": 6,
   "id": "1b04a4ad",
   "metadata": {
    "scrolled": true
   },
   "outputs": [
    {
     "data": {
      "text/html": [
       "<div>\n",
       "<style scoped>\n",
       "    .dataframe tbody tr th:only-of-type {\n",
       "        vertical-align: middle;\n",
       "    }\n",
       "\n",
       "    .dataframe tbody tr th {\n",
       "        vertical-align: top;\n",
       "    }\n",
       "\n",
       "    .dataframe thead th {\n",
       "        text-align: right;\n",
       "    }\n",
       "</style>\n",
       "<table border=\"1\" class=\"dataframe\">\n",
       "  <thead>\n",
       "    <tr style=\"text-align: right;\">\n",
       "      <th></th>\n",
       "      <th>message to examine</th>\n",
       "      <th>label</th>\n",
       "    </tr>\n",
       "  </thead>\n",
       "  <tbody>\n",
       "    <tr>\n",
       "      <th>0</th>\n",
       "      <td>real good moment . missssssssss much ,</td>\n",
       "      <td>Contento</td>\n",
       "    </tr>\n",
       "    <tr>\n",
       "      <th>1</th>\n",
       "      <td>read manga</td>\n",
       "      <td>Neutro</td>\n",
       "    </tr>\n",
       "    <tr>\n",
       "      <th>2</th>\n",
       "      <td>-</td>\n",
       "      <td>Neutro</td>\n",
       "    </tr>\n",
       "    <tr>\n",
       "      <th>3</th>\n",
       "      <td>need send ' em account tomorrow . odd , even r...</td>\n",
       "      <td>Molesto</td>\n",
       "    </tr>\n",
       "    <tr>\n",
       "      <th>4</th>\n",
       "      <td>add myspac ! ! !</td>\n",
       "      <td>Neutro</td>\n",
       "    </tr>\n",
       "  </tbody>\n",
       "</table>\n",
       "</div>"
      ],
      "text/plain": [
       "                                  message to examine     label\n",
       "0             real good moment . missssssssss much ,  Contento\n",
       "1                                         read manga    Neutro\n",
       "2                                                  -    Neutro\n",
       "3  need send ' em account tomorrow . odd , even r...   Molesto\n",
       "4                                   add myspac ! ! !    Neutro"
      ]
     },
     "execution_count": 6,
     "metadata": {},
     "output_type": "execute_result"
    }
   ],
   "source": [
    "clasificador(dataset)\n",
    "dataset[0:5]"
   ]
  },
  {
   "cell_type": "markdown",
   "id": "b8b7593a",
   "metadata": {},
   "source": [
    "## 4. Codificación de los atributos y objetivos"
   ]
  },
  {
   "cell_type": "markdown",
   "id": "3eabd670",
   "metadata": {},
   "source": [
    "En este apartado, designamos cuáles son los **atributos** (mensajes a categorizar) y los **objetivos** (etiquetas para asginar cada mensaje) para posteriormente vectorizarlos y convertirlos en datos numéricos.\n",
    "\n",
    "Una vez hecho, creamos un conjunto de datos **entrenamiento** para poder establecer un patrón a seguir a la hora de categorizar los mensajes y un conjunto de datos **prueba**, en el cual determinamos cómo debería de asignarse cada etiqueta. "
   ]
  },
  {
   "cell_type": "code",
   "execution_count": 7,
   "id": "495967e9",
   "metadata": {
    "scrolled": true
   },
   "outputs": [],
   "source": [
    "#Extracción de los datos: 'atributos' y 'objetivo'\n",
    "atributos = dataset[\"message to examine\"]\n",
    "objetivo = dataset[\"label\"]\n",
    "\n",
    "#Vectorización del texto de 'atributo' y 'objetivo' con el codificador CountVectorizer y preprocessing.LabelEncoder() respectivamente. \n",
    "codificador_atributo = CountVectorizer()\n",
    "codificador_objetivo = preprocessing.LabelEncoder()\n",
    "\n",
    "#Conversión en valores numéricos\n",
    "atributos_codificados = codificador_atributo.fit_transform(atributos)\n",
    "objetivo_codificado= codificador_objetivo.fit_transform(objetivo)\n",
    "\n",
    "\n",
    "#Creación de los conjuntos de datos\n",
    "(atributos_entrenamiento, atributos_prueba, objetivo_entrenamiento, objetivo_prueba) = train_test_split(atributos_codificados, objetivo_codificado,\n",
    "                                                                                                        random_state=12345,\n",
    "                                                                                                        test_size=.2,\n",
    "                                                                                                        stratify=objetivo_codificado)"
   ]
  },
  {
   "cell_type": "markdown",
   "id": "4b6b172b",
   "metadata": {},
   "source": [
    "## 5. Entrenamiento del modelo"
   ]
  },
  {
   "cell_type": "markdown",
   "id": "744e8d87",
   "metadata": {},
   "source": [
    "#### A través del algoritmo Naive Bayes\n",
    "\n",
    "Este algoritmo es utilizado para la clasificación de Machine Learning. Proporciona una forma sencilla de desarrollar modelos eficaces debido a su simplicidad, la cual se basa en la independencia entre las variables predictoras.\n",
    "\n",
    "Para aplicar las técnicas Naive Bayes es necesario calcular la probabilidad *posterior* de que ocurra un evento específico, teniendo en cuenta algunas probabilidades de eventos que han ocurrido con *anterioridad*.\n",
    "\n",
    "En este caso, empleamos el modelo **multinomial**, ya que los datos cuentan con una distribución multinomial y dicho modelo se utiliza para clasificación de documentos (en este código, para determinación de sentimiento). \n"
   ]
  },
  {
   "cell_type": "code",
   "execution_count": 8,
   "id": "60cec734",
   "metadata": {
    "scrolled": true
   },
   "outputs": [
    {
     "name": "stdout",
     "output_type": "stream",
     "text": [
      "La precisión del modelo desarrollado es de un 72.07949587978672 %\n"
     ]
    }
   ],
   "source": [
    "#Entrenamiento del modelo de Naive Bayes usando la instancia MultinomialNB\n",
    "sentiment_detector = MultinomialNB(alpha=1.0) \n",
    "sentiment_detector.fit(atributos_entrenamiento, objetivo_entrenamiento)\n",
    "\n",
    "#Predicciones con el conjunto de prueba, una vez entrenado el modelo.\n",
    "predicciones = sentiment_detector.predict(atributos_prueba)\n",
    "#Cálculo del rendimiento del modelo desarrollado\n",
    "precision = sentiment_detector.score(atributos_prueba, objetivo_prueba)\n",
    "print(\"La precisión del modelo desarrollado es de un\", precision*100, \"%\")\n"
   ]
  },
  {
   "cell_type": "markdown",
   "id": "c424c228",
   "metadata": {},
   "source": [
    "#### A través del algoritmo Regresión Logística\n",
    "\n",
    "Este algoritmo es utilizado ampliamente para construir modelos de clasificación binaria. Es un método estadístico que trata de modelar la probabilidad de una variable cualitativa con dos posibles valores en relación con una o varias variables independientes. \n",
    "\n",
    "En este caso, como tenemos **datos multinomiales**, se utiliza para modelar la relación entre una variable con más de dos categorías posibles (variable dependiente) y una o más variables independientes. Por ello, la regresión logística multinomial nos ayuda a tratar situaciones en las que la variable de interés presenta más de dos niveles o categorías."
   ]
  },
  {
   "cell_type": "code",
   "execution_count": 9,
   "id": "35225cb9",
   "metadata": {},
   "outputs": [
    {
     "name": "stdout",
     "output_type": "stream",
     "text": [
      "La precisión del modelo desarrollado es de un 88.70685044370052 %\n"
     ]
    }
   ],
   "source": [
    "#Entrenamiento del modelo de Regresión logística usando la instancia LogisticRegression\n",
    "model = LogisticRegression(max_iter=1000, multi_class='multinomial')\n",
    "model.fit(atributos_entrenamiento, objetivo_entrenamiento)\n",
    "\n",
    "#Cálculo de la precisión del modelo\n",
    "objetivo_predict = model.predict(atributos_prueba)\n",
    "precision = precision_score(objetivo_prueba, objetivo_predict, average='weighted', zero_division=1)\n",
    "print(\"La precisión del modelo desarrollado es de un\", precision*100,\"%\")\n"
   ]
  },
  {
   "cell_type": "markdown",
   "id": "c53d392e",
   "metadata": {},
   "source": [
    "## 6. Uso del modelo entrenado\n",
    "\n",
    "Para finalizar, ponemos a prueba el modelo que hemos desarrollado para identificar el sentimiento de cada tweet. Para ello, hemos buscado dos perfiles: uno cuyos tweets reflejan la personalidad positiva del usuario (@jimmyfallon) y otro cuyos tweets corresponden a una personalidad más negativa (@MattWalshBlog).\n",
    "\n",
    "En primer lugar, leemos los mensajes, limpiamos el texto y los clasificamos en las distintas categorías según la polaridad del tweet. "
   ]
  },
  {
   "cell_type": "code",
   "execution_count": 10,
   "id": "f3ad4c6d",
   "metadata": {},
   "outputs": [
    {
     "data": {
      "text/html": [
       "<div>\n",
       "<style scoped>\n",
       "    .dataframe tbody tr th:only-of-type {\n",
       "        vertical-align: middle;\n",
       "    }\n",
       "\n",
       "    .dataframe tbody tr th {\n",
       "        vertical-align: top;\n",
       "    }\n",
       "\n",
       "    .dataframe thead th {\n",
       "        text-align: right;\n",
       "    }\n",
       "</style>\n",
       "<table border=\"1\" class=\"dataframe\">\n",
       "  <thead>\n",
       "    <tr style=\"text-align: right;\">\n",
       "      <th></th>\n",
       "      <th>message to examine</th>\n",
       "    </tr>\n",
       "  </thead>\n",
       "  <tbody>\n",
       "    <tr>\n",
       "      <th>0</th>\n",
       "      <td>Is the new season of True Detective as woke as...</td>\n",
       "    </tr>\n",
       "    <tr>\n",
       "      <th>1</th>\n",
       "      <td>They will continue to vote for all of the same...</td>\n",
       "    </tr>\n",
       "    <tr>\n",
       "      <th>2</th>\n",
       "      <td>Delusional</td>\n",
       "    </tr>\n",
       "    <tr>\n",
       "      <th>3</th>\n",
       "      <td>I have not seen a pro-Haley account on this si...</td>\n",
       "    </tr>\n",
       "    <tr>\n",
       "      <th>4</th>\n",
       "      <td>Columbus's sins, both real and imagined, have ...</td>\n",
       "    </tr>\n",
       "  </tbody>\n",
       "</table>\n",
       "</div>"
      ],
      "text/plain": [
       "                                  message to examine\n",
       "0  Is the new season of True Detective as woke as...\n",
       "1  They will continue to vote for all of the same...\n",
       "2                                         Delusional\n",
       "3  I have not seen a pro-Haley account on this si...\n",
       "4  Columbus's sins, both real and imagined, have ..."
      ]
     },
     "execution_count": 10,
     "metadata": {},
     "output_type": "execute_result"
    }
   ],
   "source": [
    "tweets = pd.read_csv('users_tweets.csv', delimiter=\";\")\n",
    "tweets[:5] "
   ]
  },
  {
   "cell_type": "code",
   "execution_count": 11,
   "id": "bf5c651b",
   "metadata": {},
   "outputs": [
    {
     "data": {
      "text/html": [
       "<div>\n",
       "<style scoped>\n",
       "    .dataframe tbody tr th:only-of-type {\n",
       "        vertical-align: middle;\n",
       "    }\n",
       "\n",
       "    .dataframe tbody tr th {\n",
       "        vertical-align: top;\n",
       "    }\n",
       "\n",
       "    .dataframe thead th {\n",
       "        text-align: right;\n",
       "    }\n",
       "</style>\n",
       "<table border=\"1\" class=\"dataframe\">\n",
       "  <thead>\n",
       "    <tr style=\"text-align: right;\">\n",
       "      <th></th>\n",
       "      <th>message to examine</th>\n",
       "      <th>label</th>\n",
       "    </tr>\n",
       "  </thead>\n",
       "  <tbody>\n",
       "    <tr>\n",
       "      <th>0</th>\n",
       "      <td>new season true detect woke assum go ?</td>\n",
       "      <td>Contento</td>\n",
       "    </tr>\n",
       "    <tr>\n",
       "      <th>1</th>\n",
       "      <td>continu vote polit leader explicit promis make...</td>\n",
       "      <td>Neutro</td>\n",
       "    </tr>\n",
       "    <tr>\n",
       "      <th>2</th>\n",
       "      <td>delusion</td>\n",
       "      <td>Neutro</td>\n",
       "    </tr>\n",
       "    <tr>\n",
       "      <th>3</th>\n",
       "      <td>seen pro-haley account site , met pro-haley co...</td>\n",
       "      <td>Contento</td>\n",
       "    </tr>\n",
       "    <tr>\n",
       "      <th>4</th>\n",
       "      <td>columbus sin , real imagin , discuss ad nausea...</td>\n",
       "      <td>Molesto</td>\n",
       "    </tr>\n",
       "  </tbody>\n",
       "</table>\n",
       "</div>"
      ],
      "text/plain": [
       "                                  message to examine     label\n",
       "0             new season true detect woke assum go ?  Contento\n",
       "1  continu vote polit leader explicit promis make...    Neutro\n",
       "2                                           delusion    Neutro\n",
       "3  seen pro-haley account site , met pro-haley co...  Contento\n",
       "4  columbus sin , real imagin , discuss ad nausea...   Molesto"
      ]
     },
     "execution_count": 11,
     "metadata": {},
     "output_type": "execute_result"
    }
   ],
   "source": [
    "limpiar_texto(tweets)\n",
    "clasificador(tweets)\n",
    "tweets[:5]"
   ]
  },
  {
   "cell_type": "markdown",
   "id": "4c1c5b5e",
   "metadata": {},
   "source": [
    "#### Representación de tweets \"hater\"\n",
    "\n",
    "Guardamos en una variable los mensajes que se corresponden con la personalidad más negativa (\"hater\")."
   ]
  },
  {
   "cell_type": "code",
   "execution_count": 12,
   "id": "14529e87",
   "metadata": {},
   "outputs": [
    {
     "data": {
      "text/html": [
       "<div>\n",
       "<style scoped>\n",
       "    .dataframe tbody tr th:only-of-type {\n",
       "        vertical-align: middle;\n",
       "    }\n",
       "\n",
       "    .dataframe tbody tr th {\n",
       "        vertical-align: top;\n",
       "    }\n",
       "\n",
       "    .dataframe thead th {\n",
       "        text-align: right;\n",
       "    }\n",
       "</style>\n",
       "<table border=\"1\" class=\"dataframe\">\n",
       "  <thead>\n",
       "    <tr style=\"text-align: right;\">\n",
       "      <th></th>\n",
       "      <th>message to examine</th>\n",
       "      <th>label</th>\n",
       "    </tr>\n",
       "  </thead>\n",
       "  <tbody>\n",
       "    <tr>\n",
       "      <th>0</th>\n",
       "      <td>new season true detect woke assum go ?</td>\n",
       "      <td>Contento</td>\n",
       "    </tr>\n",
       "    <tr>\n",
       "      <th>1</th>\n",
       "      <td>continu vote polit leader explicit promis make...</td>\n",
       "      <td>Neutro</td>\n",
       "    </tr>\n",
       "    <tr>\n",
       "      <th>2</th>\n",
       "      <td>delusion</td>\n",
       "      <td>Neutro</td>\n",
       "    </tr>\n",
       "    <tr>\n",
       "      <th>3</th>\n",
       "      <td>seen pro-haley account site , met pro-haley co...</td>\n",
       "      <td>Contento</td>\n",
       "    </tr>\n",
       "    <tr>\n",
       "      <th>4</th>\n",
       "      <td>columbus sin , real imagin , discuss ad nausea...</td>\n",
       "      <td>Molesto</td>\n",
       "    </tr>\n",
       "  </tbody>\n",
       "</table>\n",
       "</div>"
      ],
      "text/plain": [
       "                                  message to examine     label\n",
       "0             new season true detect woke assum go ?  Contento\n",
       "1  continu vote polit leader explicit promis make...    Neutro\n",
       "2                                           delusion    Neutro\n",
       "3  seen pro-haley account site , met pro-haley co...  Contento\n",
       "4  columbus sin , real imagin , discuss ad nausea...   Molesto"
      ]
     },
     "execution_count": 12,
     "metadata": {},
     "output_type": "execute_result"
    }
   ],
   "source": [
    "hater = tweets[:30]\n",
    "hater[:5]"
   ]
  },
  {
   "cell_type": "markdown",
   "id": "88f94a9f",
   "metadata": {},
   "source": [
    "Representamos en un diagrama de sectores el porcentaje de las categorías asignadas a los tweets, de manera que podamos visualizar los resultados más rápidamente. "
   ]
  },
  {
   "cell_type": "code",
   "execution_count": 13,
   "id": "fe1660a5",
   "metadata": {},
   "outputs": [
    {
     "data": {
      "text/plain": [
       "label\n",
       "Molesto     12\n",
       "Neutro      10\n",
       "Contento     7\n",
       "Hater        1\n",
       "Name: count, dtype: int64"
      ]
     },
     "execution_count": 13,
     "metadata": {},
     "output_type": "execute_result"
    }
   ],
   "source": [
    "#Contamos el número de tweets bajo la misma categoría y lo guardamos en una nueva variable. \n",
    "values_hater = hater.value_counts(\"label\")\n",
    "values_hater"
   ]
  },
  {
   "cell_type": "code",
   "execution_count": 14,
   "id": "e0f6995e",
   "metadata": {},
   "outputs": [
    {
     "data": {
      "image/png": "[encoded data removed]",
      "text/plain": [
       "<Figure size 640x480 with 1 Axes>"
      ]
     },
     "metadata": {},
     "output_type": "display_data"
    }
   ],
   "source": [
    "#Generamos el plot con los valores extraídos en la variable anterior y con las etiquetas correspondientes. Le añadimos un \n",
    "#título y el porcentaje para completar más la información del plot. \n",
    "plt.pie(values_hater, labels=values_hater.index, autopct = \"%1.1f%%\")\n",
    "plt.title(\"Sentimental Analysis\")\n",
    "plt.show()"
   ]
  },
  {
   "cell_type": "markdown",
   "id": "f4192589",
   "metadata": {},
   "source": [
    "#### Representación de tweets \"positivos\"\n",
    "\n",
    "Realizamos los mismos pasos que en caso anterior pero, en este caso, para la personalidad más positiva. "
   ]
  },
  {
   "cell_type": "code",
   "execution_count": 15,
   "id": "bd5637a8",
   "metadata": {},
   "outputs": [
    {
     "data": {
      "text/html": [
       "<div>\n",
       "<style scoped>\n",
       "    .dataframe tbody tr th:only-of-type {\n",
       "        vertical-align: middle;\n",
       "    }\n",
       "\n",
       "    .dataframe tbody tr th {\n",
       "        vertical-align: top;\n",
       "    }\n",
       "\n",
       "    .dataframe thead th {\n",
       "        text-align: right;\n",
       "    }\n",
       "</style>\n",
       "<table border=\"1\" class=\"dataframe\">\n",
       "  <thead>\n",
       "    <tr style=\"text-align: right;\">\n",
       "      <th></th>\n",
       "      <th>message to examine</th>\n",
       "      <th>label</th>\n",
       "    </tr>\n",
       "  </thead>\n",
       "  <tbody>\n",
       "    <tr>\n",
       "      <th>31</th>\n",
       "      <td>show fun ! ! ! thank much watch . thank play ....</td>\n",
       "      <td>Contento</td>\n",
       "    </tr>\n",
       "    <tr>\n",
       "      <th>32</th>\n",
       "      <td>thank everyon listen love ! dont blink youll m...</td>\n",
       "      <td>Contento</td>\n",
       "    </tr>\n",
       "    <tr>\n",
       "      <th>33</th>\n",
       "      <td>im go bed - got tomorrow ! !</td>\n",
       "      <td>Neutro</td>\n",
       "    </tr>\n",
       "    <tr>\n",
       "      <th>34</th>\n",
       "      <td>wow guess im realli spirit year</td>\n",
       "      <td>Contento</td>\n",
       "    </tr>\n",
       "    <tr>\n",
       "      <th>35</th>\n",
       "      <td>guy number 2 ! ! ! omg ! ! ! close ! close ! ! !</td>\n",
       "      <td>Neutro</td>\n",
       "    </tr>\n",
       "  </tbody>\n",
       "</table>\n",
       "</div>"
      ],
      "text/plain": [
       "                                   message to examine     label\n",
       "31  show fun ! ! ! thank much watch . thank play ....  Contento\n",
       "32  thank everyon listen love ! dont blink youll m...  Contento\n",
       "33                       im go bed - got tomorrow ! !    Neutro\n",
       "34                    wow guess im realli spirit year  Contento\n",
       "35   guy number 2 ! ! ! omg ! ! ! close ! close ! ! !    Neutro"
      ]
     },
     "execution_count": 15,
     "metadata": {},
     "output_type": "execute_result"
    }
   ],
   "source": [
    "positive = tweets[31:]\n",
    "positive[:5]"
   ]
  },
  {
   "cell_type": "code",
   "execution_count": 16,
   "id": "40ddf8e1",
   "metadata": {},
   "outputs": [
    {
     "data": {
      "text/plain": [
       "label\n",
       "Neutro       13\n",
       "Contento     11\n",
       "Molesto       4\n",
       "Muy feliz     2\n",
       "Name: count, dtype: int64"
      ]
     },
     "execution_count": 16,
     "metadata": {},
     "output_type": "execute_result"
    }
   ],
   "source": [
    "values_positive = positive.value_counts('label')\n",
    "values_positive"
   ]
  },
  {
   "cell_type": "code",
   "execution_count": 17,
   "id": "2b76659a",
   "metadata": {},
   "outputs": [
    {
     "data": {
      "image/png": "[encoded data removed]",
      "text/plain": [
       "<Figure size 640x480 with 1 Axes>"
      ]
     },
     "metadata": {},
     "output_type": "display_data"
    }
   ],
   "source": [
    "plt.pie(values_positive, labels= values_positive.index, autopct = \"%1.1f%%\")\n",
    "plt.title(\"Sentimental Analysis\")\n",
    "plt.show()"
   ]
  }
 ],
 "metadata": {
  "kernelspec": {
   "display_name": "Python 3 (ipykernel)",
   "language": "python",
   "name": "python3"
  },
  "language_info": {
   "codemirror_mode": {
    "name": "ipython",
    "version": 3
   },
   "file_extension": ".py",
   "mimetype": "text/x-python",
   "name": "python",
   "nbconvert_exporter": "python",
   "pygments_lexer": "ipython3",
   "version": "3.11.5"
  }
 },
 "nbformat": 4,
 "nbformat_minor": 5
}
