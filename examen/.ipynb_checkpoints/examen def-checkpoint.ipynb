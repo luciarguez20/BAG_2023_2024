{
 "cells": [
  {
   "cell_type": "code",
   "execution_count": 1,
   "id": "e7399039",
   "metadata": {},
   "outputs": [],
   "source": [
    "import pandas as pd\n",
    "import numpy as np\n",
    "from sklearn.model_selection import train_test_split\n",
    "from sklearn.feature_extraction.text import CountVectorizer\n",
    "from sklearn.naive_bayes import MultinomialNB\n",
    "from sklearn.metrics import accuracy_score, classification_report, confusion_matrix\n",
    "from sklearn.pipeline import make_pipeline\n",
    "\n",
    "import nltk\n",
    "from nltk.corpus import stopwords\n",
    "from nltk.stem import PorterStemmer\n",
    "from nltk.tokenize import word_tokenize#Se cargan todas las librerías que vamos a usar\n",
    "\n",
    "import re\n",
    "from nltk.tokenize import TweetTokenizer\n",
    "from nltk.corpus import stopwords\n",
    "from nltk.stem import SnowballStemmer\n",
    "\n"
   ]
  },
  {
   "cell_type": "markdown",
   "id": "b90ec40e",
   "metadata": {},
   "source": [
    "## 1. Lectura de datos"
   ]
  },
  {
   "cell_type": "code",
   "execution_count": 2,
   "id": "a5e31f7b",
   "metadata": {},
   "outputs": [
    {
     "data": {
      "text/html": [
       "<div>\n",
       "<style scoped>\n",
       "    .dataframe tbody tr th:only-of-type {\n",
       "        vertical-align: middle;\n",
       "    }\n",
       "\n",
       "    .dataframe tbody tr th {\n",
       "        vertical-align: top;\n",
       "    }\n",
       "\n",
       "    .dataframe thead th {\n",
       "        text-align: right;\n",
       "    }\n",
       "</style>\n",
       "<table border=\"1\" class=\"dataframe\">\n",
       "  <thead>\n",
       "    <tr style=\"text-align: right;\">\n",
       "      <th></th>\n",
       "      <th>message to examine</th>\n",
       "    </tr>\n",
       "  </thead>\n",
       "  <tbody>\n",
       "    <tr>\n",
       "      <th>0</th>\n",
       "      <td>just had a real good moment. i missssssssss hi...</td>\n",
       "    </tr>\n",
       "    <tr>\n",
       "      <th>1</th>\n",
       "      <td>is reading manga  http://plurk.com/p/mzp1e</td>\n",
       "    </tr>\n",
       "    <tr>\n",
       "      <th>2</th>\n",
       "      <td>@comeagainjen http://twitpic.com/2y2lx - http:...</td>\n",
       "    </tr>\n",
       "    <tr>\n",
       "      <th>3</th>\n",
       "      <td>@lapcat Need to send 'em to my accountant tomo...</td>\n",
       "    </tr>\n",
       "    <tr>\n",
       "      <th>4</th>\n",
       "      <td>ADD ME ON MYSPACE!!!  myspace.com/LookThunder</td>\n",
       "    </tr>\n",
       "    <tr>\n",
       "      <th>...</th>\n",
       "      <td>...</td>\n",
       "    </tr>\n",
       "    <tr>\n",
       "      <th>10309</th>\n",
       "      <td>No Depression by G Herbo is my mood from now o...</td>\n",
       "    </tr>\n",
       "    <tr>\n",
       "      <th>10310</th>\n",
       "      <td>What do you do when depression succumbs the br...</td>\n",
       "    </tr>\n",
       "    <tr>\n",
       "      <th>10311</th>\n",
       "      <td>Ketamine Nasal Spray Shows Promise Against Dep...</td>\n",
       "    </tr>\n",
       "    <tr>\n",
       "      <th>10312</th>\n",
       "      <td>dont mistake a bad day with depression! everyo...</td>\n",
       "    </tr>\n",
       "    <tr>\n",
       "      <th>10313</th>\n",
       "      <td>0</td>\n",
       "    </tr>\n",
       "  </tbody>\n",
       "</table>\n",
       "<p>10314 rows × 1 columns</p>\n",
       "</div>"
      ],
      "text/plain": [
       "                                      message to examine\n",
       "0      just had a real good moment. i missssssssss hi...\n",
       "1             is reading manga  http://plurk.com/p/mzp1e\n",
       "2      @comeagainjen http://twitpic.com/2y2lx - http:...\n",
       "3      @lapcat Need to send 'em to my accountant tomo...\n",
       "4          ADD ME ON MYSPACE!!!  myspace.com/LookThunder\n",
       "...                                                  ...\n",
       "10309  No Depression by G Herbo is my mood from now o...\n",
       "10310  What do you do when depression succumbs the br...\n",
       "10311  Ketamine Nasal Spray Shows Promise Against Dep...\n",
       "10312  dont mistake a bad day with depression! everyo...\n",
       "10313                                                  0\n",
       "\n",
       "[10314 rows x 1 columns]"
      ]
     },
     "execution_count": 2,
     "metadata": {},
     "output_type": "execute_result"
    }
   ],
   "source": [
    "data = pd.read_csv('sentiment_tweets3.csv')\n",
    "dataset = data[['message to examine']]\n",
    "dataset"
   ]
  },
  {
   "cell_type": "markdown",
   "id": "65bcb7bc",
   "metadata": {},
   "source": [
    "## 2.  Limpieza del contenido de tweets"
   ]
  },
  {
   "cell_type": "code",
   "execution_count": 3,
   "id": "00cddc04",
   "metadata": {},
   "outputs": [],
   "source": [
    "\n",
    "def limpiar_texto(data):\n",
    "\n",
    "    for index, row in data.iterrows(): \n",
    "        #print(row)\n",
    "        message = row['message to examine']\n",
    "        #print(message)\n",
    "        new_line = re.sub(r'Ã|Â|[^\\x20-\\x7E]|ì|ë|°|ï|½|<Emoji:\\s*[^>]+>|https?://\\S+|www\\.\\S+|\\b\\S+\\.com\\S+\\b|[@#]\\w+|@|¦|¢',\"\", message)\n",
    "        #print(new_line)\n",
    "        new2 = new_line.lower()\n",
    "        tokenizer = TweetTokenizer()\n",
    "        sep = tokenizer.tokenize(new2)\n",
    "        #print(sep)\n",
    "        stopW = set(stopwords.words('english'))\n",
    "        #print(stopW)\n",
    "        \n",
    "        for lista in sep:\n",
    "            filtered_sentence = [word for word in sep if not word in stopW]\n",
    "            #print(filtered_sentence)\n",
    "            \n",
    "#        filtered_sentence = []\n",
    "#        for word in sep:\n",
    "#            if word not in stopW:\n",
    "#                filtered_sentence.append(word)\n",
    "\n",
    "            lemat = SnowballStemmer('english')\n",
    "            stems = [lemat.stem(word) for word in filtered_sentence]\n",
    "        #print(stems)\n",
    "        final_text = ' '.join(stems)\n",
    "        #print(final_text)\n",
    "        #data[message] == final_text \n",
    "        data.at[index, 'message to examine'] = final_text\n",
    "    #print(len(data))\n",
    "        \n",
    "    return data"
   ]
  },
  {
   "cell_type": "code",
   "execution_count": 4,
   "id": "8c7b2e02",
   "metadata": {
    "scrolled": true
   },
   "outputs": [
    {
     "data": {
      "text/html": [
       "<div>\n",
       "<style scoped>\n",
       "    .dataframe tbody tr th:only-of-type {\n",
       "        vertical-align: middle;\n",
       "    }\n",
       "\n",
       "    .dataframe tbody tr th {\n",
       "        vertical-align: top;\n",
       "    }\n",
       "\n",
       "    .dataframe thead th {\n",
       "        text-align: right;\n",
       "    }\n",
       "</style>\n",
       "<table border=\"1\" class=\"dataframe\">\n",
       "  <thead>\n",
       "    <tr style=\"text-align: right;\">\n",
       "      <th></th>\n",
       "      <th>message to examine</th>\n",
       "    </tr>\n",
       "  </thead>\n",
       "  <tbody>\n",
       "    <tr>\n",
       "      <th>0</th>\n",
       "      <td>real good moment . missssssssss much ,</td>\n",
       "    </tr>\n",
       "    <tr>\n",
       "      <th>1</th>\n",
       "      <td>read manga</td>\n",
       "    </tr>\n",
       "    <tr>\n",
       "      <th>2</th>\n",
       "      <td>-</td>\n",
       "    </tr>\n",
       "    <tr>\n",
       "      <th>3</th>\n",
       "      <td>need send ' em account tomorrow . odd , even r...</td>\n",
       "    </tr>\n",
       "    <tr>\n",
       "      <th>4</th>\n",
       "      <td>add myspac ! ! !</td>\n",
       "    </tr>\n",
       "    <tr>\n",
       "      <th>...</th>\n",
       "      <td>...</td>\n",
       "    </tr>\n",
       "    <tr>\n",
       "      <th>10309</th>\n",
       "      <td>depress g herbo mood , i'm done stress peopl d...</td>\n",
       "    </tr>\n",
       "    <tr>\n",
       "      <th>10310</th>\n",
       "      <td>depress succumb brain make feel like never eno...</td>\n",
       "    </tr>\n",
       "    <tr>\n",
       "      <th>10311</th>\n",
       "      <td>ketamin nasal spray show promis depress , suicid</td>\n",
       "    </tr>\n",
       "    <tr>\n",
       "      <th>10312</th>\n",
       "      <td>dont mistak bad day depress ! everyon ' em !</td>\n",
       "    </tr>\n",
       "    <tr>\n",
       "      <th>10313</th>\n",
       "      <td>0</td>\n",
       "    </tr>\n",
       "  </tbody>\n",
       "</table>\n",
       "<p>10314 rows × 1 columns</p>\n",
       "</div>"
      ],
      "text/plain": [
       "                                      message to examine\n",
       "0                 real good moment . missssssssss much ,\n",
       "1                                             read manga\n",
       "2                                                      -\n",
       "3      need send ' em account tomorrow . odd , even r...\n",
       "4                                       add myspac ! ! !\n",
       "...                                                  ...\n",
       "10309  depress g herbo mood , i'm done stress peopl d...\n",
       "10310  depress succumb brain make feel like never eno...\n",
       "10311   ketamin nasal spray show promis depress , suicid\n",
       "10312       dont mistak bad day depress ! everyon ' em !\n",
       "10313                                                  0\n",
       "\n",
       "[10314 rows x 1 columns]"
      ]
     },
     "execution_count": 4,
     "metadata": {},
     "output_type": "execute_result"
    }
   ],
   "source": [
    "limpiar_texto(dataset)\n"
   ]
  },
  {
   "cell_type": "code",
   "execution_count": 5,
   "id": "e6b94358",
   "metadata": {
    "scrolled": true
   },
   "outputs": [
    {
     "data": {
      "text/html": [
       "<div>\n",
       "<style scoped>\n",
       "    .dataframe tbody tr th:only-of-type {\n",
       "        vertical-align: middle;\n",
       "    }\n",
       "\n",
       "    .dataframe tbody tr th {\n",
       "        vertical-align: top;\n",
       "    }\n",
       "\n",
       "    .dataframe thead th {\n",
       "        text-align: right;\n",
       "    }\n",
       "</style>\n",
       "<table border=\"1\" class=\"dataframe\">\n",
       "  <thead>\n",
       "    <tr style=\"text-align: right;\">\n",
       "      <th></th>\n",
       "      <th>message to examine</th>\n",
       "    </tr>\n",
       "  </thead>\n",
       "  <tbody>\n",
       "    <tr>\n",
       "      <th>0</th>\n",
       "      <td>real good moment . missssssssss much ,</td>\n",
       "    </tr>\n",
       "    <tr>\n",
       "      <th>1</th>\n",
       "      <td>read manga</td>\n",
       "    </tr>\n",
       "    <tr>\n",
       "      <th>2</th>\n",
       "      <td>-</td>\n",
       "    </tr>\n",
       "    <tr>\n",
       "      <th>3</th>\n",
       "      <td>need send ' em account tomorrow . odd , even r...</td>\n",
       "    </tr>\n",
       "    <tr>\n",
       "      <th>4</th>\n",
       "      <td>add myspac ! ! !</td>\n",
       "    </tr>\n",
       "  </tbody>\n",
       "</table>\n",
       "</div>"
      ],
      "text/plain": [
       "                                  message to examine\n",
       "0             real good moment . missssssssss much ,\n",
       "1                                         read manga\n",
       "2                                                  -\n",
       "3  need send ' em account tomorrow . odd , even r...\n",
       "4                                   add myspac ! ! !"
      ]
     },
     "execution_count": 5,
     "metadata": {},
     "output_type": "execute_result"
    }
   ],
   "source": [
    "dataset[0:5]"
   ]
  },
  {
   "cell_type": "markdown",
   "id": "2cc69f12",
   "metadata": {},
   "source": [
    "## 3.  Identificación del sentimiento "
   ]
  },
  {
   "cell_type": "code",
   "execution_count": 6,
   "id": "711e27e4",
   "metadata": {},
   "outputs": [],
   "source": [
    "from textblob import TextBlob\n",
    "def clasificador(data):\n",
    "    labels = []\n",
    "    for index, row in data.iterrows(): \n",
    "        message = row['message to examine']\n",
    "        text = TextBlob(message)\n",
    "        sentiment_polarity = text.sentiment.polarity\n",
    "        #print(sentiment_polarity, text)\n",
    "        \n",
    "        if -1 <= sentiment_polarity <= -0.8:\n",
    "            label = \"Hater\"\n",
    "        elif -0.8 < sentiment_polarity < 0:\n",
    "            label = \"Molesto\"\n",
    "        elif sentiment_polarity == 0:\n",
    "            label = \"Neutro\"\n",
    "        elif 0 < sentiment_polarity < 0.8:\n",
    "            label = \"Contento\"\n",
    "        elif 0.8 <= sentiment_polarity <= 1:\n",
    "            label= \"Muy feliz\"\n",
    "        labels.append(label)\n",
    "        \n",
    "#        print(line, text, sentiment_polarity, label)\n",
    "#    print(labels)\n",
    "#    print(len(labels))\n",
    "#    print(len(data),len(labels))\n",
    "#    print(data[0:5])\n",
    "    data['label'] = labels\n",
    "#    data.insert(loc=1, column='label', value=labels)\n",
    "    \n",
    "#    print(data)\n",
    "    return data\n"
   ]
  },
  {
   "cell_type": "code",
   "execution_count": 7,
   "id": "1b04a4ad",
   "metadata": {
    "scrolled": true
   },
   "outputs": [
    {
     "name": "stderr",
     "output_type": "stream",
     "text": [
      "C:\\Users\\lucia\\AppData\\Local\\Temp\\ipykernel_16988\\2259067432.py:27: SettingWithCopyWarning: \n",
      "A value is trying to be set on a copy of a slice from a DataFrame.\n",
      "Try using .loc[row_indexer,col_indexer] = value instead\n",
      "\n",
      "See the caveats in the documentation: https://pandas.pydata.org/pandas-docs/stable/user_guide/indexing.html#returning-a-view-versus-a-copy\n",
      "  data['label'] = labels\n"
     ]
    },
    {
     "data": {
      "text/html": [
       "<div>\n",
       "<style scoped>\n",
       "    .dataframe tbody tr th:only-of-type {\n",
       "        vertical-align: middle;\n",
       "    }\n",
       "\n",
       "    .dataframe tbody tr th {\n",
       "        vertical-align: top;\n",
       "    }\n",
       "\n",
       "    .dataframe thead th {\n",
       "        text-align: right;\n",
       "    }\n",
       "</style>\n",
       "<table border=\"1\" class=\"dataframe\">\n",
       "  <thead>\n",
       "    <tr style=\"text-align: right;\">\n",
       "      <th></th>\n",
       "      <th>message to examine</th>\n",
       "      <th>label</th>\n",
       "    </tr>\n",
       "  </thead>\n",
       "  <tbody>\n",
       "    <tr>\n",
       "      <th>0</th>\n",
       "      <td>real good moment . missssssssss much ,</td>\n",
       "      <td>Contento</td>\n",
       "    </tr>\n",
       "    <tr>\n",
       "      <th>1</th>\n",
       "      <td>read manga</td>\n",
       "      <td>Neutro</td>\n",
       "    </tr>\n",
       "    <tr>\n",
       "      <th>2</th>\n",
       "      <td>-</td>\n",
       "      <td>Neutro</td>\n",
       "    </tr>\n",
       "    <tr>\n",
       "      <th>3</th>\n",
       "      <td>need send ' em account tomorrow . odd , even r...</td>\n",
       "      <td>Molesto</td>\n",
       "    </tr>\n",
       "    <tr>\n",
       "      <th>4</th>\n",
       "      <td>add myspac ! ! !</td>\n",
       "      <td>Neutro</td>\n",
       "    </tr>\n",
       "    <tr>\n",
       "      <th>...</th>\n",
       "      <td>...</td>\n",
       "      <td>...</td>\n",
       "    </tr>\n",
       "    <tr>\n",
       "      <th>10309</th>\n",
       "      <td>depress g herbo mood , i'm done stress peopl d...</td>\n",
       "      <td>Molesto</td>\n",
       "    </tr>\n",
       "    <tr>\n",
       "      <th>10310</th>\n",
       "      <td>depress succumb brain make feel like never eno...</td>\n",
       "      <td>Molesto</td>\n",
       "    </tr>\n",
       "    <tr>\n",
       "      <th>10311</th>\n",
       "      <td>ketamin nasal spray show promis depress , suicid</td>\n",
       "      <td>Molesto</td>\n",
       "    </tr>\n",
       "    <tr>\n",
       "      <th>10312</th>\n",
       "      <td>dont mistak bad day depress ! everyon ' em !</td>\n",
       "      <td>Molesto</td>\n",
       "    </tr>\n",
       "    <tr>\n",
       "      <th>10313</th>\n",
       "      <td>0</td>\n",
       "      <td>Neutro</td>\n",
       "    </tr>\n",
       "  </tbody>\n",
       "</table>\n",
       "<p>10314 rows × 2 columns</p>\n",
       "</div>"
      ],
      "text/plain": [
       "                                      message to examine     label\n",
       "0                 real good moment . missssssssss much ,  Contento\n",
       "1                                             read manga    Neutro\n",
       "2                                                      -    Neutro\n",
       "3      need send ' em account tomorrow . odd , even r...   Molesto\n",
       "4                                       add myspac ! ! !    Neutro\n",
       "...                                                  ...       ...\n",
       "10309  depress g herbo mood , i'm done stress peopl d...   Molesto\n",
       "10310  depress succumb brain make feel like never eno...   Molesto\n",
       "10311   ketamin nasal spray show promis depress , suicid   Molesto\n",
       "10312       dont mistak bad day depress ! everyon ' em !   Molesto\n",
       "10313                                                  0    Neutro\n",
       "\n",
       "[10314 rows x 2 columns]"
      ]
     },
     "execution_count": 7,
     "metadata": {},
     "output_type": "execute_result"
    }
   ],
   "source": [
    "clasificador(dataset)"
   ]
  },
  {
   "cell_type": "code",
   "execution_count": 8,
   "id": "d1bb79ba",
   "metadata": {
    "scrolled": true
   },
   "outputs": [
    {
     "data": {
      "text/html": [
       "<div>\n",
       "<style scoped>\n",
       "    .dataframe tbody tr th:only-of-type {\n",
       "        vertical-align: middle;\n",
       "    }\n",
       "\n",
       "    .dataframe tbody tr th {\n",
       "        vertical-align: top;\n",
       "    }\n",
       "\n",
       "    .dataframe thead th {\n",
       "        text-align: right;\n",
       "    }\n",
       "</style>\n",
       "<table border=\"1\" class=\"dataframe\">\n",
       "  <thead>\n",
       "    <tr style=\"text-align: right;\">\n",
       "      <th></th>\n",
       "      <th>message to examine</th>\n",
       "      <th>label</th>\n",
       "    </tr>\n",
       "  </thead>\n",
       "  <tbody>\n",
       "    <tr>\n",
       "      <th>0</th>\n",
       "      <td>real good moment . missssssssss much ,</td>\n",
       "      <td>Contento</td>\n",
       "    </tr>\n",
       "    <tr>\n",
       "      <th>1</th>\n",
       "      <td>read manga</td>\n",
       "      <td>Neutro</td>\n",
       "    </tr>\n",
       "    <tr>\n",
       "      <th>2</th>\n",
       "      <td>-</td>\n",
       "      <td>Neutro</td>\n",
       "    </tr>\n",
       "    <tr>\n",
       "      <th>3</th>\n",
       "      <td>need send ' em account tomorrow . odd , even r...</td>\n",
       "      <td>Molesto</td>\n",
       "    </tr>\n",
       "    <tr>\n",
       "      <th>4</th>\n",
       "      <td>add myspac ! ! !</td>\n",
       "      <td>Neutro</td>\n",
       "    </tr>\n",
       "  </tbody>\n",
       "</table>\n",
       "</div>"
      ],
      "text/plain": [
       "                                  message to examine     label\n",
       "0             real good moment . missssssssss much ,  Contento\n",
       "1                                         read manga    Neutro\n",
       "2                                                  -    Neutro\n",
       "3  need send ' em account tomorrow . odd , even r...   Molesto\n",
       "4                                   add myspac ! ! !    Neutro"
      ]
     },
     "execution_count": 8,
     "metadata": {},
     "output_type": "execute_result"
    }
   ],
   "source": [
    "dataset[0:5]"
   ]
  },
  {
   "cell_type": "markdown",
   "id": "b8b7593a",
   "metadata": {},
   "source": [
    "## 4. Codificación de los atributos y objetivos"
   ]
  },
  {
   "cell_type": "code",
   "execution_count": 63,
   "id": "495967e9",
   "metadata": {
    "scrolled": true
   },
   "outputs": [],
   "source": [
    "atributos = dataset[\"message to examine\"]\n",
    "#Vectorización del texto del atributo con el codificador CountVectorizer\n",
    "vectorizer = CountVectorizer()\n",
    "#Conversión de los atributos en valores numéricos\n",
    "atributos = vectorizer.fit_transform(atributos)\n",
    "#print(atributos)\n",
    "objetivo = dataset[\"label\"]\n",
    "\n",
    "(atributos_entrenamiento, atributos_prueba, objetivo_entrenamiento, objetivo_prueba) = train_test_split(atributos, objetivo,\n",
    "                                                                                                        random_state=12345,\n",
    "                                                                                                        test_size=.2,\n",
    "                                                                                                        stratify=objetivo)\n"
   ]
  },
  {
   "cell_type": "markdown",
   "id": "4b6b172b",
   "metadata": {},
   "source": [
    "## 5. Entrenamiento del modelo"
   ]
  },
  {
   "cell_type": "markdown",
   "id": "744e8d87",
   "metadata": {},
   "source": [
    "#### A través del algoritmo Naive Bayes"
   ]
  },
  {
   "cell_type": "code",
   "execution_count": 64,
   "id": "60cec734",
   "metadata": {
    "scrolled": true
   },
   "outputs": [
    {
     "name": "stdout",
     "output_type": "stream",
     "text": [
      "La precisión del modelo desarrollado es 72.07949587978672\n"
     ]
    }
   ],
   "source": [
    "#Entrenamiento del modelo de Naive Bayes usando la instancia MultinomialNB\n",
    "sentiment_detector = MultinomialNB(alpha=1.0)  # alpha es el parámetro de suavizado\n",
    "sentiment_detector.fit(atributos_entrenamiento, objetivo_entrenamiento)\n",
    "\n",
    "#Predicciones con el conjunto de prueba\n",
    "predicciones = sentiment_detector.predict(atributos_prueba)\n",
    "#Cálculo de la precisión del modelo\n",
    "precision = sentiment_detector.score(atributos_prueba, objetivo_prueba)\n",
    "print(\"La precisión del modelo desarrollado es\", precision*100)\n"
   ]
  },
  {
   "cell_type": "markdown",
   "id": "c424c228",
   "metadata": {},
   "source": [
    "#### A través del algoritmo Regresión Logística"
   ]
  },
  {
   "cell_type": "code",
   "execution_count": 84,
   "id": "35225cb9",
   "metadata": {},
   "outputs": [
    {
     "name": "stdout",
     "output_type": "stream",
     "text": [
      "La precisión del modelo desarrollado es 81.20628842373155\n"
     ]
    }
   ],
   "source": [
    "from sklearn.linear_model import LogisticRegression\n",
    "from sklearn.model_selection import train_test_split\n",
    "from sklearn.preprocessing import StandardScaler\n",
    "from sklearn.metrics import precision_score\n",
    "\n",
    "scaler = StandardScaler(with_mean=False, with_std=True)\n",
    "atributos_entrenamiento = scaler.fit_transform(atributos_entrenamiento)\n",
    "atributos_prueba = scaler.transform(atributos_prueba)\n",
    "\n",
    "model = LogisticRegression(max_iter=1000)\n",
    "model.fit(atributos_entrenamiento, objetivo_entrenamiento)\n",
    "\n",
    "objetivo_predict = model.predict(atributos_prueba)\n",
    "precision = precision_score(objetivo_prueba, objetivo_predict, average='weighted')\n",
    "print(\"La precisión del modelo desarrollado es\", precision*100)\n"
   ]
  },
  {
   "cell_type": "markdown",
   "id": "c53d392e",
   "metadata": {},
   "source": [
    "## 6. Uso del modelo entrenado\n"
   ]
  },
  {
   "cell_type": "code",
   "execution_count": 40,
   "id": "f3ad4c6d",
   "metadata": {},
   "outputs": [
    {
     "data": {
      "text/html": [
       "<div>\n",
       "<style scoped>\n",
       "    .dataframe tbody tr th:only-of-type {\n",
       "        vertical-align: middle;\n",
       "    }\n",
       "\n",
       "    .dataframe tbody tr th {\n",
       "        vertical-align: top;\n",
       "    }\n",
       "\n",
       "    .dataframe thead th {\n",
       "        text-align: right;\n",
       "    }\n",
       "</style>\n",
       "<table border=\"1\" class=\"dataframe\">\n",
       "  <thead>\n",
       "    <tr style=\"text-align: right;\">\n",
       "      <th></th>\n",
       "      <th>message to examine</th>\n",
       "    </tr>\n",
       "  </thead>\n",
       "  <tbody>\n",
       "    <tr>\n",
       "      <th>0</th>\n",
       "      <td>hating on me is still being obsessed with me</td>\n",
       "    </tr>\n",
       "    <tr>\n",
       "      <th>1</th>\n",
       "      <td>whatever you say man with big autistic eyes</td>\n",
       "    </tr>\n",
       "    <tr>\n",
       "      <th>2</th>\n",
       "      <td>first time getting a setlist at a concert toni...</td>\n",
       "    </tr>\n",
       "    <tr>\n",
       "      <th>3</th>\n",
       "      <td>wuthering heights to MOTHERing nights</td>\n",
       "    </tr>\n",
       "    <tr>\n",
       "      <th>4</th>\n",
       "      <td>this looks like a yearbook for a school where ...</td>\n",
       "    </tr>\n",
       "    <tr>\n",
       "      <th>...</th>\n",
       "      <td>...</td>\n",
       "    </tr>\n",
       "    <tr>\n",
       "      <th>56</th>\n",
       "      <td>Haaaa!! Love it!!! #ThatsMyJam</td>\n",
       "    </tr>\n",
       "    <tr>\n",
       "      <th>57</th>\n",
       "      <td>You know what I’d wish for if I had a genie? H...</td>\n",
       "    </tr>\n",
       "    <tr>\n",
       "      <th>58</th>\n",
       "      <td>I don’t have time to cook a recipe that takes ...</td>\n",
       "    </tr>\n",
       "    <tr>\n",
       "      <th>59</th>\n",
       "      <td>My man. Crushed it @MrCraigRobinson . #ThatsMyJam</td>\n",
       "    </tr>\n",
       "    <tr>\n",
       "      <th>60</th>\n",
       "      <td>Yaaaaaaay!!!</td>\n",
       "    </tr>\n",
       "  </tbody>\n",
       "</table>\n",
       "<p>61 rows × 1 columns</p>\n",
       "</div>"
      ],
      "text/plain": [
       "                                   message to examine\n",
       "0        hating on me is still being obsessed with me\n",
       "1         whatever you say man with big autistic eyes\n",
       "2   first time getting a setlist at a concert toni...\n",
       "3               wuthering heights to MOTHERing nights\n",
       "4   this looks like a yearbook for a school where ...\n",
       "..                                                ...\n",
       "56                     Haaaa!! Love it!!! #ThatsMyJam\n",
       "57  You know what I’d wish for if I had a genie? H...\n",
       "58  I don’t have time to cook a recipe that takes ...\n",
       "59  My man. Crushed it @MrCraigRobinson . #ThatsMyJam\n",
       "60                                       Yaaaaaaay!!!\n",
       "\n",
       "[61 rows x 1 columns]"
      ]
     },
     "execution_count": 40,
     "metadata": {},
     "output_type": "execute_result"
    }
   ],
   "source": [
    "tweets = pd.read_excel('my_tweets.xlsx')\n",
    "tweets"
   ]
  },
  {
   "cell_type": "code",
   "execution_count": 41,
   "id": "bf5c651b",
   "metadata": {},
   "outputs": [
    {
     "data": {
      "text/html": [
       "<div>\n",
       "<style scoped>\n",
       "    .dataframe tbody tr th:only-of-type {\n",
       "        vertical-align: middle;\n",
       "    }\n",
       "\n",
       "    .dataframe tbody tr th {\n",
       "        vertical-align: top;\n",
       "    }\n",
       "\n",
       "    .dataframe thead th {\n",
       "        text-align: right;\n",
       "    }\n",
       "</style>\n",
       "<table border=\"1\" class=\"dataframe\">\n",
       "  <thead>\n",
       "    <tr style=\"text-align: right;\">\n",
       "      <th></th>\n",
       "      <th>message to examine</th>\n",
       "      <th>label</th>\n",
       "    </tr>\n",
       "  </thead>\n",
       "  <tbody>\n",
       "    <tr>\n",
       "      <th>0</th>\n",
       "      <td>hate still obsess</td>\n",
       "      <td>Hater</td>\n",
       "    </tr>\n",
       "    <tr>\n",
       "      <th>1</th>\n",
       "      <td>whatev say man big autist eye</td>\n",
       "      <td>Neutro</td>\n",
       "    </tr>\n",
       "    <tr>\n",
       "      <th>2</th>\n",
       "      <td>first time get setlist concert tonight big day</td>\n",
       "      <td>Contento</td>\n",
       "    </tr>\n",
       "    <tr>\n",
       "      <th>3</th>\n",
       "      <td>wuther height mother night</td>\n",
       "      <td>Neutro</td>\n",
       "    </tr>\n",
       "    <tr>\n",
       "      <th>4</th>\n",
       "      <td>look like yearbook school student kafka</td>\n",
       "      <td>Neutro</td>\n",
       "    </tr>\n",
       "    <tr>\n",
       "      <th>...</th>\n",
       "      <td>...</td>\n",
       "      <td>...</td>\n",
       "    </tr>\n",
       "    <tr>\n",
       "      <th>56</th>\n",
       "      <td>haaaa ! ! love ! ! !</td>\n",
       "      <td>Muy feliz</td>\n",
       "    </tr>\n",
       "    <tr>\n",
       "      <th>57</th>\n",
       "      <td>know id wish geni ? happi birthday paul rudd t...</td>\n",
       "      <td>Neutro</td>\n",
       "    </tr>\n",
       "    <tr>\n",
       "      <th>58</th>\n",
       "      <td>dont time cook recip take hour , time watch 3 ...</td>\n",
       "      <td>Neutro</td>\n",
       "    </tr>\n",
       "    <tr>\n",
       "      <th>59</th>\n",
       "      <td>man . crush .</td>\n",
       "      <td>Neutro</td>\n",
       "    </tr>\n",
       "    <tr>\n",
       "      <th>60</th>\n",
       "      <td>yaaaaaaay ! ! !</td>\n",
       "      <td>Neutro</td>\n",
       "    </tr>\n",
       "  </tbody>\n",
       "</table>\n",
       "<p>61 rows × 2 columns</p>\n",
       "</div>"
      ],
      "text/plain": [
       "                                   message to examine      label\n",
       "0                                   hate still obsess      Hater\n",
       "1                       whatev say man big autist eye     Neutro\n",
       "2      first time get setlist concert tonight big day   Contento\n",
       "3                          wuther height mother night     Neutro\n",
       "4             look like yearbook school student kafka     Neutro\n",
       "..                                                ...        ...\n",
       "56                               haaaa ! ! love ! ! !  Muy feliz\n",
       "57  know id wish geni ? happi birthday paul rudd t...     Neutro\n",
       "58  dont time cook recip take hour , time watch 3 ...     Neutro\n",
       "59                                      man . crush .     Neutro\n",
       "60                                    yaaaaaaay ! ! !     Neutro\n",
       "\n",
       "[61 rows x 2 columns]"
      ]
     },
     "execution_count": 41,
     "metadata": {},
     "output_type": "execute_result"
    }
   ],
   "source": [
    "limpiar_texto(tweets)\n",
    "clasificador(tweets)"
   ]
  },
  {
   "cell_type": "markdown",
   "id": "4c1c5b5e",
   "metadata": {},
   "source": [
    "#### Representación de tweets \"hater\"\n"
   ]
  },
  {
   "cell_type": "code",
   "execution_count": 52,
   "id": "14529e87",
   "metadata": {},
   "outputs": [],
   "source": [
    "hater = tweets[:30]\n",
    "#print(hater)"
   ]
  },
  {
   "cell_type": "code",
   "execution_count": 61,
   "id": "e0f6995e",
   "metadata": {},
   "outputs": [
    {
     "data": {
      "image/png": "[encoded data removed]",
      "text/plain": [
       "<Figure size 640x480 with 1 Axes>"
      ]
     },
     "metadata": {},
     "output_type": "display_data"
    }
   ],
   "source": [
    "import matplotlib.pyplot as plt\n",
    "\n",
    "values_hater = hater.value_counts('label')\n",
    "#print(valores)\n",
    "labels_hater=values_hater.index\n",
    "#print(labels)\n",
    "plt.pie(values_hater, labels= labels_hater)\n",
    "plt.title(\"Sentimental Analysis\")\n",
    "plt.show()"
   ]
  },
  {
   "cell_type": "markdown",
   "id": "f4192589",
   "metadata": {},
   "source": [
    "#### Representación de tweets \"positivos\""
   ]
  },
  {
   "cell_type": "code",
   "execution_count": 62,
   "id": "2b76659a",
   "metadata": {},
   "outputs": [
    {
     "data": {
      "image/png": "[encoded data removed]",
      "text/plain": [
       "<Figure size 640x480 with 1 Axes>"
      ]
     },
     "metadata": {},
     "output_type": "display_data"
    }
   ],
   "source": [
    "happy = tweets[31:]\n",
    "#print(happy)\n",
    "values_happy = happy.value_counts('label')\n",
    "#print(valores)\n",
    "labels_happy=values_happy.index\n",
    "#print(labels)\n",
    "plt.pie(values_happy, labels= labels_happy)\n",
    "plt.title(\"Sentimental Analysis\")\n",
    "plt.show()"
   ]
  }
 ],
 "metadata": {
  "kernelspec": {
   "display_name": "Python 3 (ipykernel)",
   "language": "python",
   "name": "python3"
  },
  "language_info": {
   "codemirror_mode": {
    "name": "ipython",
    "version": 3
   },
   "file_extension": ".py",
   "mimetype": "text/x-python",
   "name": "python",
   "nbconvert_exporter": "python",
   "pygments_lexer": "ipython3",
   "version": "3.11.5"
  }
 },
 "nbformat": 4,
 "nbformat_minor": 5
}
