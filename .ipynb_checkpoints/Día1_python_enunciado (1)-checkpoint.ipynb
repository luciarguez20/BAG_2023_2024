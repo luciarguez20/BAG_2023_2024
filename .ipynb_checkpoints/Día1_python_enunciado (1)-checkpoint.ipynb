{
 "cells": [
  {
   "cell_type": "markdown",
   "id": "25e406e4",
   "metadata": {},
   "source": [
    "# Python básico\n",
    "\n",
    "Ana Belén Romero Losada\n",
    "Departamento de Ciencias de la Computación e Inteligencia Artificial\n",
    "Universidad de Sevila\n",
    "\n",
    "En esta hoja de trabajo vamos a ver lo esencial de Python para poder empezar a practicar con el lenguaje.\n",
    "\n",
    "En el entorno Jupyter se trabaja Python sobre un notebook u hoja de trabajo. Esta hoja de trabajo está formada por una secuencia de cajas, que pueden ser de texto, en las que explicar ideas y conceptos, o de código, en las que definir o evaluar funciones Python.\n"
   ]
  },
  {
   "cell_type": "markdown",
   "id": "6f83aa55",
   "metadata": {},
   "source": [
    "##  Ejercicio 1\n",
    "\n",
    "Crea una función que resuelva una ecuación de segundo grado en jupyter y en R. Compara las diferencias a la hora de realizar operaciones aritméticas y lógicas, declarar variables/objetos y usar las estructuras de control. \n",
    "\n",
    "PISTA: existe una función llamada round() para redondear. Se usa como típicamente se usa en R."
   ]
  },
  {
   "cell_type": "code",
   "execution_count": 2,
   "id": "5a496365",
   "metadata": {},
   "outputs": [],
   "source": [
    "#Crea la funcion llamada calculadora\n",
    "##comprueba si el número que iría dentro de la raiz cuadrada es negativo\n",
    "###Devuelve 0 y un mensaje de error\n",
    "##en el caso que no lo sea, resuelve la ecuacion\n",
    "### imprime por pantalla los siguientes mensajes\n",
    "####\"ambas soluciones son válidas, x puede valer sol1 y sol2\"\n",
    "####\"Solo la solucion 1 es válida, x vale sol1\"\n",
    "####\"Solo la solucion 2 es válida, x vale sol2\"\n",
    "\n"
   ]
  },
  {
   "cell_type": "code",
   "execution_count": 15,
   "id": "074eda7a-9f72-4f9f-9ef7-9f03ff5132cb",
   "metadata": {},
   "outputs": [],
   "source": [
    "def calculadora(a,b,c):\n",
    "    raiz = (b)**2 - (4*(a)*(c))\n",
    "    if raiz < 0:\n",
    "        print (\"Esta ecuación no tiene solución\")\n",
    "        return(0)\n",
    "    else:\n",
    "        sol1 = (-(b) + ((b)**2 - (4*(a)*(c)))**(1/2))/(2*(a))\n",
    "        sol2 = (-(b) + ((b)**2 - (4*(a)*(c)))**(1/2))/(2*(a))\n",
    "        test1 = (a*((sol1)**2)) + (b*(sol1)) + c\n",
    "        test2 = (a*((sol2)**2)) + (b*(sol2)) + c\n",
    "        if (round(test1) == 0) and (round(test2) == 0):\n",
    "            print (\"Ambas soluciones son válidas. El valor de x puede ser\", sol1, \"y\" , sol2) \n",
    "        elif (round(test1) == 0) and (round(test2) != 0):\n",
    "            print (\"Solo la solución 1 es válida, por lo que x solo puede valer\" , sol1)\n",
    "        elif (round(test1) != 0) and (round(test2) == 0):\n",
    "            print (\"Solo la solución 2 es válida, por lo que x solo puede valer\", sol2)\n",
    "                           \n",
    "        "
   ]
  },
  {
   "cell_type": "code",
   "execution_count": 6,
   "id": "12dde7a4",
   "metadata": {},
   "outputs": [
    {
     "name": "stdout",
     "output_type": "stream",
     "text": [
      "Esta ecuación no tiene solución\n"
     ]
    },
    {
     "data": {
      "text/plain": [
       "0"
      ]
     },
     "execution_count": 6,
     "metadata": {},
     "output_type": "execute_result"
    }
   ],
   "source": [
    "calculadora(2,4,7)"
   ]
  },
  {
   "cell_type": "code",
   "execution_count": 16,
   "id": "a65a41f7-474b-434f-9cb5-ba72955f3927",
   "metadata": {},
   "outputs": [
    {
     "name": "stdout",
     "output_type": "stream",
     "text": [
      "Ambas soluciones son válidas. El valor de x puede ser -1.0 y -1.0\n"
     ]
    }
   ],
   "source": [
    "calculadora(2,4,2)"
   ]
  },
  {
   "cell_type": "markdown",
   "id": "0bdfc9f1",
   "metadata": {},
   "source": [
    "## Ejercicio 2\n",
    "\n",
    "Traduce este pseudocódigo a código en R y python simultáneamente. \n",
    "\n"
   ]
  },
  {
   "cell_type": "code",
   "execution_count": null,
   "id": "d22b6179",
   "metadata": {},
   "outputs": [],
   "source": [
    "#Declara una variable llamada x que valga 2\n",
    "#Súmale 2 a x"
   ]
  },
  {
   "cell_type": "code",
   "execution_count": 17,
   "id": "ed397bdf-c724-45a2-9eac-df0629069eee",
   "metadata": {},
   "outputs": [
    {
     "name": "stdout",
     "output_type": "stream",
     "text": [
      "2 3 4\n"
     ]
    }
   ],
   "source": [
    "x=2 ## en R era x <- 2\n",
    "## se pueden definir varios objetos (variables en R) a la vez: \n",
    "x,y,b=2,3,4\n",
    "print(x,y,b)\n",
    "\n",
    "##asignacion aumentada\n",
    "##en R: x <- 2, x+2\n",
    "x+=2\n",
    "x*=3 ##(nuevo valor de x multiplicado por 3)\n",
    "x-=3"
   ]
  },
  {
   "cell_type": "code",
   "execution_count": null,
   "id": "b25402f9-6b00-4e56-8469-5370a5277e57",
   "metadata": {},
   "outputs": [],
   "source": [
    "##En R:\n",
    "## string \"atg\"\n",
    "## vector \"a\" , \"t\", \"g\""
   ]
  },
  {
   "cell_type": "code",
   "execution_count": 17,
   "id": "c04298d3",
   "metadata": {},
   "outputs": [],
   "source": [
    "#Declara una variable llamada palabra que valga \"hola\"\n",
    "#Cuadrupicla la variable palabra\n"
   ]
  },
  {
   "cell_type": "code",
   "execution_count": 24,
   "id": "e60c034b-87a6-4c2e-86d6-bcda51acd228",
   "metadata": {},
   "outputs": [
    {
     "data": {
      "text/plain": [
       "'holaholaholahola'"
      ]
     },
     "execution_count": 24,
     "metadata": {},
     "output_type": "execute_result"
    }
   ],
   "source": [
    "palabra=\"hola\"\n",
    "palabra*=4 #duplica por 4 la cadena de caracter\n",
    "palabra"
   ]
  },
  {
   "cell_type": "code",
   "execution_count": 25,
   "id": "583d4a66-868a-4157-891f-6aa26ce67a34",
   "metadata": {},
   "outputs": [
    {
     "data": {
      "text/plain": [
       "'hola hola hola hola '"
      ]
     },
     "execution_count": 25,
     "metadata": {},
     "output_type": "execute_result"
    }
   ],
   "source": [
    "palabra2= \"hola \"\n",
    "palabra2*=4\n",
    "palabra2"
   ]
  },
  {
   "cell_type": "code",
   "execution_count": 34,
   "id": "9c37772c-3eb0-43d6-b352-ea2597dc993a",
   "metadata": {},
   "outputs": [
    {
     "data": {
      "text/plain": [
       "'hola '"
      ]
     },
     "execution_count": 34,
     "metadata": {},
     "output_type": "execute_result"
    }
   ],
   "source": [
    "palabra0= \"hola \"\n",
    "palabra0"
   ]
  },
  {
   "cell_type": "code",
   "execution_count": null,
   "id": "a9457486",
   "metadata": {},
   "outputs": [],
   "source": [
    "#añade las palabras \"mundo que tal\" a palabra\n",
    "#encuentra en que posicion está mundo\n",
    "#escribelo en mayuscula y cuenta cuantas \"a\" hay (esto hazlo solo en python)\n"
   ]
  },
  {
   "cell_type": "code",
   "execution_count": 36,
   "id": "8d6c2e98-5d4b-4f07-a96c-da584f0cd482",
   "metadata": {},
   "outputs": [
    {
     "data": {
      "text/plain": [
       "5"
      ]
     },
     "execution_count": 36,
     "metadata": {},
     "output_type": "execute_result"
    }
   ],
   "source": [
    "palabra0+=\"mundo que tal\"\n",
    "palabra0\n"
   ]
  },
  {
   "cell_type": "code",
   "execution_count": null,
   "id": "ca99467c-71f0-40a5-8cc2-e309d45ce582",
   "metadata": {},
   "outputs": [],
   "source": [
    "palabra0.index(\"mundo\")\n",
    "palabra0.upper() ##con parentesis vacio para poner todo en mayusculas\n",
    "palabra0.find(\"tal\") ##para ver si dentro de string hay algo, muy parecida a index\n",
    "palabra0.count(\"a\") ## cuenta todas las a que hay en la string"
   ]
  },
  {
   "cell_type": "code",
   "execution_count": 39,
   "id": "37c4f8d7-d318-4ded-bc03-18212c72b4df",
   "metadata": {},
   "outputs": [
    {
     "data": {
      "text/plain": [
       "'hola m'"
      ]
     },
     "execution_count": 39,
     "metadata": {},
     "output_type": "execute_result"
    }
   ],
   "source": [
    "##para acceder a caracteres de string \n",
    "palabra0[0:6] #primera ubicacion es 0\n",
    "palabra0[0:12:2] #para ir de 2 en 2 (como seq by en R)"
   ]
  },
  {
   "cell_type": "code",
   "execution_count": 40,
   "id": "37b1c2cf-6d41-45cf-b894-69edbc48af5a",
   "metadata": {},
   "outputs": [
    {
     "data": {
      "text/plain": [
       "'lat euq odnumlat euq odnum lat euq odnumalohalohalohaloh'"
      ]
     },
     "execution_count": 40,
     "metadata": {},
     "output_type": "execute_result"
    }
   ],
   "source": [
    "palabra[:12] #por defecto es el inicio y seq es 1\n",
    "palabra[::-1] #accede a los elementos del string desde el final hasta el principio al revés, de 1 en 1"
   ]
  },
  {
   "cell_type": "markdown",
   "id": "cd1fc86f",
   "metadata": {},
   "source": [
    "## Ejercicio 3\n",
    "\n",
    "Vamos a prácticar con las demás clases de objetos en python."
   ]
  },
  {
   "cell_type": "code",
   "execution_count": 42,
   "id": "95a15183",
   "metadata": {},
   "outputs": [
    {
     "data": {
      "text/plain": [
       "(1, 3, 4, 'hola', 'hola')"
      ]
     },
     "execution_count": 42,
     "metadata": {},
     "output_type": "execute_result"
    }
   ],
   "source": [
    "#############tuplas\n",
    "#Crea una tupla con tres elementos, el elemento más parecido a un vector\n",
    "tupla1=(1,3,4, \"hola\") ##puede tener cualquier elemnto: no tuplas ni listas\n",
    "tupla2=1,2,3,4 #lo reconoce sin parentesis como vector\n",
    "#Crea una tupla con un elemento\n",
    "tupla_uno=1, ##1 solo elemento entre parentesis no lo reconoce como vector\n",
    "#Crea una tupla vacía\n",
    "tupla_vacia=()\n",
    "#recorre la tupla al revés\n",
    "tupla1[::-1]\n",
    "tupla1[3]\n",
    "#está el valor 6 en la tupla?\n",
    "1 in tupla1\n",
    "#Concatena, es decir, añade al final de la tupla: el valor 10\n",
    "tupla1+=(\"hola\",)\n",
    "tupla1 ##en las tuplas se usa + para asignacion\n",
    "#Modifica el valor de la posición 2 en la tupla por la palabra \"hola\"\n",
    "tupla1[2]=5 ##no se puede modificar una tupla guardada anteriormente. se pueden añadir cosas pero no modificar los elemntos primigenios\n",
    "## se podra modificar si es una lista"
   ]
  },
  {
   "cell_type": "code",
   "execution_count": 54,
   "id": "305c0ac9",
   "metadata": {},
   "outputs": [
    {
     "data": {
      "text/plain": [
       "'adios amigo'"
      ]
     },
     "execution_count": 54,
     "metadata": {},
     "output_type": "execute_result"
    }
   ],
   "source": [
    "#############listas\n",
    "lista=[1,2,5] #si o si se deben poner los corchetes para que se reconozca como una lista\n",
    "lista2=[1,2,5, lista]\n",
    "lista2\n",
    "#Crea una lista que dentro tenga palabras\n",
    "l1=[\"hola\", \"mundo\", \"que\" ,\"tal\"]\n",
    "#Modifica el valor de la posición 2 en la lista por la palabra \"hola\"\n",
    "l1[2]=\"hola\"\n",
    "l1\n",
    "#Concatena el valor 122 con tu lista\n",
    "l1+=[122] ##concatenaciones del mismo tipo, para que lo tome como lista tiene que ir entre corchetes\n",
    "l1\n",
    "#Concatena el valor \"hola\" con tu lista\n",
    "l1+=[\"hola\"]\n",
    "l1\n",
    "#transforma la lista en una string con la función .join (para convertir lista en string)\n",
    "#.apend ##para añadir a la lista cosas\n",
    "lista_vacia=[]\n",
    "lista_vacia.append(2) ##no tiene porqué ser en forma de lista, se puede meter cualquier cosa, como una cadena palabra\n",
    "lista_vacia\n",
    "##.join, se puede usar con listas como argumentos\n",
    "##añade una cadena a los elemntos de una lista con solo palabras\n",
    "l2=[\"adios\", \"amigo\"]\n",
    "\" \".join(l2)"
   ]
  },
  {
   "cell_type": "code",
   "execution_count": null,
   "id": "1bf20c03-01d7-43c6-bf42-5fcfe2202dc6",
   "metadata": {},
   "outputs": [],
   "source": [
    "## bucles for\n",
    "def mi_primer_bucle(lista):\n",
    "    #for (i in 1:length(lista))\n",
    "    for i in range(0,(len(lista)+1)): ## +1 porque empieza a contar en 0\n",
    "        lista[i] <- x+1 ##queda muy largo por lo que lo evitamos\n",
    "    for numero in lista:\n",
    "        numero\n",
    "\n"
   ]
  },
  {
   "cell_type": "code",
   "execution_count": null,
   "id": "37b322bc",
   "metadata": {},
   "outputs": [],
   "source": [
    "#############Diccionarios\n",
    "#Crea un diccionario\n",
    "#accede al valor de la 2ª clave\n",
    "#Añade una clave nueva con su correspondiente valor\n",
    "#Accede solo a los valores, o solo a las claves"
   ]
  }
 ],
 "metadata": {
  "kernelspec": {
   "display_name": "Python 3 (ipykernel)",
   "language": "python",
   "name": "python3"
  },
  "language_info": {
   "codemirror_mode": {
    "name": "ipython",
    "version": 3
   },
   "file_extension": ".py",
   "mimetype": "text/x-python",
   "name": "python",
   "nbconvert_exporter": "python",
   "pygments_lexer": "ipython3",
   "version": "3.11.5"
  }
 },
 "nbformat": 4,
 "nbformat_minor": 5
}
